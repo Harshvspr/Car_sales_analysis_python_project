{
 "cells": [
  {
   "cell_type": "markdown",
   "id": "6432cbad-083b-4c1e-b38f-f37482b72005",
   "metadata": {},
   "source": [
    "# Car Price analysis"
   ]
  },
  {
   "cell_type": "code",
   "execution_count": 9,
   "id": "15d8c417-c54b-4e7d-81ea-b663090399da",
   "metadata": {},
   "outputs": [],
   "source": [
    "import pandas as pd\n",
    "import numpy as np\n",
    "import plotly.express as px\n",
    "import plotly.graph_objects as go"
   ]
  },
  {
   "cell_type": "code",
   "execution_count": 17,
   "id": "9ff51c6d-aa38-47a5-bd7f-f3f95feef369",
   "metadata": {},
   "outputs": [
    {
     "data": {
      "text/html": [
       "<div>\n",
       "<style scoped>\n",
       "    .dataframe tbody tr th:only-of-type {\n",
       "        vertical-align: middle;\n",
       "    }\n",
       "\n",
       "    .dataframe tbody tr th {\n",
       "        vertical-align: top;\n",
       "    }\n",
       "\n",
       "    .dataframe thead th {\n",
       "        text-align: right;\n",
       "    }\n",
       "</style>\n",
       "<table border=\"1\" class=\"dataframe\">\n",
       "  <thead>\n",
       "    <tr style=\"text-align: right;\">\n",
       "      <th></th>\n",
       "      <th>car_ID</th>\n",
       "      <th>symboling</th>\n",
       "      <th>CarName</th>\n",
       "      <th>fueltype</th>\n",
       "      <th>aspiration</th>\n",
       "      <th>doornumber</th>\n",
       "      <th>carbody</th>\n",
       "      <th>drivewheel</th>\n",
       "      <th>enginelocation</th>\n",
       "      <th>wheelbase</th>\n",
       "      <th>...</th>\n",
       "      <th>enginesize</th>\n",
       "      <th>fuelsystem</th>\n",
       "      <th>boreratio</th>\n",
       "      <th>stroke</th>\n",
       "      <th>compressionratio</th>\n",
       "      <th>horsepower</th>\n",
       "      <th>peakrpm</th>\n",
       "      <th>citympg</th>\n",
       "      <th>highwaympg</th>\n",
       "      <th>price</th>\n",
       "    </tr>\n",
       "  </thead>\n",
       "  <tbody>\n",
       "    <tr>\n",
       "      <th>0</th>\n",
       "      <td>1</td>\n",
       "      <td>3</td>\n",
       "      <td>alfa-romero giulia</td>\n",
       "      <td>gas</td>\n",
       "      <td>std</td>\n",
       "      <td>two</td>\n",
       "      <td>convertible</td>\n",
       "      <td>rwd</td>\n",
       "      <td>front</td>\n",
       "      <td>88.6</td>\n",
       "      <td>...</td>\n",
       "      <td>130</td>\n",
       "      <td>mpfi</td>\n",
       "      <td>3.47</td>\n",
       "      <td>2.68</td>\n",
       "      <td>9.0</td>\n",
       "      <td>111</td>\n",
       "      <td>5000</td>\n",
       "      <td>21</td>\n",
       "      <td>27</td>\n",
       "      <td>13495.0</td>\n",
       "    </tr>\n",
       "  </tbody>\n",
       "</table>\n",
       "<p>1 rows × 26 columns</p>\n",
       "</div>"
      ],
      "text/plain": [
       "   car_ID  symboling             CarName fueltype aspiration doornumber  \\\n",
       "0       1          3  alfa-romero giulia      gas        std        two   \n",
       "\n",
       "       carbody drivewheel enginelocation  wheelbase  ...  enginesize  \\\n",
       "0  convertible        rwd          front       88.6  ...         130   \n",
       "\n",
       "   fuelsystem  boreratio  stroke compressionratio horsepower  peakrpm citympg  \\\n",
       "0        mpfi       3.47    2.68              9.0        111     5000      21   \n",
       "\n",
       "   highwaympg    price  \n",
       "0          27  13495.0  \n",
       "\n",
       "[1 rows x 26 columns]"
      ]
     },
     "execution_count": 17,
     "metadata": {},
     "output_type": "execute_result"
    }
   ],
   "source": [
    "df = pd.read_csv(r\"C:\\Users\\Harsh\\OneDrive\\Desktop\\car_sales_project\\CarPrice_Assignment.csv\")\n",
    "df.head(1)"
   ]
  },
  {
   "cell_type": "code",
   "execution_count": 35,
   "id": "38826778-f371-47be-bf32-481d7d7c1f5e",
   "metadata": {},
   "outputs": [
    {
     "name": "stdout",
     "output_type": "stream",
     "text": [
      "                  NULL_COUNT  NULL%\n",
      "car_ID                     0    0.0\n",
      "symboling                  0    0.0\n",
      "CarName                    0    0.0\n",
      "fueltype                   0    0.0\n",
      "aspiration                 0    0.0\n",
      "doornumber                 0    0.0\n",
      "carbody                    0    0.0\n",
      "drivewheel                 0    0.0\n",
      "enginelocation             0    0.0\n",
      "wheelbase                  0    0.0\n",
      "carlength                  0    0.0\n",
      "carwidth                   0    0.0\n",
      "carheight                  0    0.0\n",
      "curbweight                 0    0.0\n",
      "enginetype                 0    0.0\n",
      "cylindernumber             0    0.0\n",
      "enginesize                 0    0.0\n",
      "fuelsystem                 0    0.0\n",
      "boreratio                  0    0.0\n",
      "stroke                     0    0.0\n",
      "compressionratio           0    0.0\n",
      "horsepower                 0    0.0\n",
      "peakrpm                    0    0.0\n",
      "citympg                    0    0.0\n",
      "highwaympg                 0    0.0\n",
      "price                      0    0.0\n"
     ]
    }
   ],
   "source": [
    "null_count = df.isnull().sum() # no null values is present there \n",
    "null_percent = (null_count / len(df)) * 100\n",
    "null_proper = pd.DataFrame({'NULL_COUNT':null_count,\"NULL%\":null_percent})# use dictionary concept here which act as a key and value thing then conver into df\n",
    "print(null_proper)"
   ]
  },
  {
   "cell_type": "code",
   "execution_count": 40,
   "id": "b959efc1-4cb4-496d-a2c7-01bb2d5f32ed",
   "metadata": {},
   "outputs": [
    {
     "name": "stdout",
     "output_type": "stream",
     "text": [
      "Dropped columns with high value more than 25% and replace with true\n"
     ]
    }
   ],
   "source": [
    "high_value = null_proper[null_proper[\"NULL%\"]>25]\n",
    "df.drop(columns=high_value.index, inplace=True) # so here we drop the coloumn with true value but actually in this data no null values is there\n",
    "print(\"Dropped columns with high value more than 25% and replace with true\")"
   ]
  },
  {
   "cell_type": "code",
   "execution_count": 41,
   "id": "601b6981-5775-4216-9b7a-2fd1b3214a26",
   "metadata": {},
   "outputs": [
    {
     "name": "stdout",
     "output_type": "stream",
     "text": [
      "Dropped rows with too many NaN values.\n"
     ]
    }
   ],
   "source": [
    "total_columns = df.shape[1]\n",
    "needed_columns = total_columns * 0.7  # 70% of total columns helps to convert the things in form of percentage\n",
    "\n",
    "df = df.dropna(thresh=needed_columns) # is used to remove the NaN value with conition or thresh\n",
    "\n",
    "print(\"Dropped rows with too many NaN values.\") # not a number or empty cells here \n"
   ]
  },
  {
   "cell_type": "markdown",
   "id": "853e73ef-022f-461d-91f7-6cda0cf126e7",
   "metadata": {},
   "source": [
    "# Now , we have to drop the unwanted coloumns such as car_ID , project phase 2 "
   ]
  },
  {
   "cell_type": "code",
   "execution_count": null,
   "id": "04769826-badf-4cc5-9c03-852c9fd91c97",
   "metadata": {},
   "outputs": [],
   "source": []
  }
 ],
 "metadata": {
  "kernelspec": {
   "display_name": "Python 3 (ipykernel)",
   "language": "python",
   "name": "python3"
  },
  "language_info": {
   "codemirror_mode": {
    "name": "ipython",
    "version": 3
   },
   "file_extension": ".py",
   "mimetype": "text/x-python",
   "name": "python",
   "nbconvert_exporter": "python",
   "pygments_lexer": "ipython3",
   "version": "3.13.2"
  }
 },
 "nbformat": 4,
 "nbformat_minor": 5
}
